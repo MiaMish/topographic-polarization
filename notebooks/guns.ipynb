{
 "cells": [
  {
   "cell_type": "code",
   "execution_count": 15,
   "outputs": [
    {
     "data": {
      "text/plain": "   FIP  Year    STATE    HFR  HFR_se  universl  permit  Fem_FS_S  Male_FS_S  \\\n0    1  1980  Alabama  0.608   0.031         0       0  0.824324   0.833795   \n1    1  1981  Alabama  0.597   0.047         0       0  0.692308   0.831126   \n2    1  1982  Alabama  0.661   0.036         0       0  0.771739   0.821429   \n3    1  1983  Alabama  0.586   0.038         0       0  0.688172   0.819277   \n4    1  1984  Alabama  0.624   0.036         0       0  0.710000   0.775956   \n\n   BRFSS  ...  GunsAmmo  BackChk  PewQChng  BS1  BS2  BS3  STATE_CODE  FIPS  \\\n0   -9.0  ... -0.509164     -9.0         0  0.0  0.0  0.0          AL     1   \n1   -9.0  ... -0.618954     -9.0         0  1.0  0.0  0.0          AL     1   \n2   -9.0  ... -0.526692     -9.0         0  2.0  0.0  0.0          AL     1   \n3   -9.0  ... -0.713227     -9.0         0  3.0  0.0  0.0          AL     1   \n4   -9.0  ... -0.733305     -9.0         0  4.0  0.0  0.0          AL     1   \n\n   Total Yearly Rate  Rate by State  \n0             25.238       0.024091  \n1             25.082       0.023802  \n2             25.553       0.025868  \n3             24.350       0.024066  \n4             25.317       0.024647  \n\n[5 rows x 24 columns]",
      "text/html": "<div>\n<style scoped>\n    .dataframe tbody tr th:only-of-type {\n        vertical-align: middle;\n    }\n\n    .dataframe tbody tr th {\n        vertical-align: top;\n    }\n\n    .dataframe thead th {\n        text-align: right;\n    }\n</style>\n<table border=\"1\" class=\"dataframe\">\n  <thead>\n    <tr style=\"text-align: right;\">\n      <th></th>\n      <th>FIP</th>\n      <th>Year</th>\n      <th>STATE</th>\n      <th>HFR</th>\n      <th>HFR_se</th>\n      <th>universl</th>\n      <th>permit</th>\n      <th>Fem_FS_S</th>\n      <th>Male_FS_S</th>\n      <th>BRFSS</th>\n      <th>...</th>\n      <th>GunsAmmo</th>\n      <th>BackChk</th>\n      <th>PewQChng</th>\n      <th>BS1</th>\n      <th>BS2</th>\n      <th>BS3</th>\n      <th>STATE_CODE</th>\n      <th>FIPS</th>\n      <th>Total Yearly Rate</th>\n      <th>Rate by State</th>\n    </tr>\n  </thead>\n  <tbody>\n    <tr>\n      <th>0</th>\n      <td>1</td>\n      <td>1980</td>\n      <td>Alabama</td>\n      <td>0.608</td>\n      <td>0.031</td>\n      <td>0</td>\n      <td>0</td>\n      <td>0.824324</td>\n      <td>0.833795</td>\n      <td>-9.0</td>\n      <td>...</td>\n      <td>-0.509164</td>\n      <td>-9.0</td>\n      <td>0</td>\n      <td>0.0</td>\n      <td>0.0</td>\n      <td>0.0</td>\n      <td>AL</td>\n      <td>1</td>\n      <td>25.238</td>\n      <td>0.024091</td>\n    </tr>\n    <tr>\n      <th>1</th>\n      <td>1</td>\n      <td>1981</td>\n      <td>Alabama</td>\n      <td>0.597</td>\n      <td>0.047</td>\n      <td>0</td>\n      <td>0</td>\n      <td>0.692308</td>\n      <td>0.831126</td>\n      <td>-9.0</td>\n      <td>...</td>\n      <td>-0.618954</td>\n      <td>-9.0</td>\n      <td>0</td>\n      <td>1.0</td>\n      <td>0.0</td>\n      <td>0.0</td>\n      <td>AL</td>\n      <td>1</td>\n      <td>25.082</td>\n      <td>0.023802</td>\n    </tr>\n    <tr>\n      <th>2</th>\n      <td>1</td>\n      <td>1982</td>\n      <td>Alabama</td>\n      <td>0.661</td>\n      <td>0.036</td>\n      <td>0</td>\n      <td>0</td>\n      <td>0.771739</td>\n      <td>0.821429</td>\n      <td>-9.0</td>\n      <td>...</td>\n      <td>-0.526692</td>\n      <td>-9.0</td>\n      <td>0</td>\n      <td>2.0</td>\n      <td>0.0</td>\n      <td>0.0</td>\n      <td>AL</td>\n      <td>1</td>\n      <td>25.553</td>\n      <td>0.025868</td>\n    </tr>\n    <tr>\n      <th>3</th>\n      <td>1</td>\n      <td>1983</td>\n      <td>Alabama</td>\n      <td>0.586</td>\n      <td>0.038</td>\n      <td>0</td>\n      <td>0</td>\n      <td>0.688172</td>\n      <td>0.819277</td>\n      <td>-9.0</td>\n      <td>...</td>\n      <td>-0.713227</td>\n      <td>-9.0</td>\n      <td>0</td>\n      <td>3.0</td>\n      <td>0.0</td>\n      <td>0.0</td>\n      <td>AL</td>\n      <td>1</td>\n      <td>24.350</td>\n      <td>0.024066</td>\n    </tr>\n    <tr>\n      <th>4</th>\n      <td>1</td>\n      <td>1984</td>\n      <td>Alabama</td>\n      <td>0.624</td>\n      <td>0.036</td>\n      <td>0</td>\n      <td>0</td>\n      <td>0.710000</td>\n      <td>0.775956</td>\n      <td>-9.0</td>\n      <td>...</td>\n      <td>-0.733305</td>\n      <td>-9.0</td>\n      <td>0</td>\n      <td>4.0</td>\n      <td>0.0</td>\n      <td>0.0</td>\n      <td>AL</td>\n      <td>1</td>\n      <td>25.317</td>\n      <td>0.024647</td>\n    </tr>\n  </tbody>\n</table>\n<p>5 rows × 24 columns</p>\n</div>"
     },
     "execution_count": 15,
     "metadata": {},
     "output_type": "execute_result"
    }
   ],
   "source": [
    "import plotly.express as px\n",
    "import pandas as pd\n",
    "\n",
    "guns_df = pd.read_csv('a.csv', sep='\\t')\n",
    "fips_df = pd.read_csv('fips.csv', sep='\\t')\n",
    "merged_df = pd.merge(guns_df, fips_df)\n",
    "\n",
    "\n",
    "# merged_df['Total Year HFT'] =\n",
    "# merged_df.groupby(['Year'])['HFR'].sum().reset_index(name ='Yearly Rate').head()\n",
    "merged_df['Total Yearly Rate'] = merged_df.groupby('Year', sort=False)[\"HFR\"].transform('sum')\n",
    "merged_df['Rate by State'] = merged_df['HFR'] / merged_df['Total Yearly Rate']\n",
    "# merged_df.head()\n",
    "# df_for_year = merged_df[(merged_df [\"Year\"] == 1980)]\n",
    "px.choropleth(merged_df,\n",
    "              locations='STATE_CODE',\n",
    "              locationmode=\"USA-states\",\n",
    "              scope=\"usa\",\n",
    "              color='Rate by State',\n",
    "              color_continuous_scale=\"Viridis_r\",\n",
    "              animation_frame=\"Year\",\n",
    "              animation_group=\"HFR\"\n",
    "              )\n"
   ],
   "metadata": {
    "collapsed": false,
    "pycharm": {
     "name": "#%%\n"
    }
   }
  }
 ],
 "metadata": {
  "kernelspec": {
   "display_name": "Python 3 (ipykernel)",
   "language": "python",
   "name": "python3"
  },
  "language_info": {
   "codemirror_mode": {
    "name": "ipython",
    "version": 3
   },
   "file_extension": ".py",
   "mimetype": "text/x-python",
   "name": "python",
   "nbconvert_exporter": "python",
   "pygments_lexer": "ipython3",
   "version": "3.9.5"
  }
 },
 "nbformat": 4,
 "nbformat_minor": 1
}