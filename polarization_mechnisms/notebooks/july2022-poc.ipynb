{
 "cells": [
  {
   "cell_type": "code",
   "execution_count": 1,
   "metadata": {
    "pycharm": {
     "name": "#%%\n"
    }
   },
   "outputs": [],
   "source": [
    "from src.flows import run_similarity_flow, run_repulsive_flow, run_assimilation_flow"
   ]
  },
  {
   "cell_type": "code",
   "execution_count": null,
   "metadata": {
    "pycharm": {
     "name": "#%%\n"
    }
   },
   "outputs": [],
   "source": [
    "# Run assimilation flow without stubborn agents\n",
    "\n",
    "# run_assimilation_flow(\n",
    "#     title=\"Vanilla Assimilation - Consensus\",\n",
    "#     num_of_agents=200,\n",
    "#     num_iterations=60,\n",
    "#     scatter_every=10,\n",
    "#     mio=0.1,\n",
    "#     percent_of_stubborn_agents_threshold=0,\n",
    "#     num_of_repetitions=10,\n",
    "#     switch_agent_rate=None,\n",
    "#     switch_agent_sigma=None\n",
    "# )"
   ]
  },
  {
   "cell_type": "code",
   "execution_count": null,
   "metadata": {
    "pycharm": {
     "name": "#%%\n"
    }
   },
   "outputs": [],
   "source": [
    "# Run assimilation flow with stubborn agents\n",
    "\n",
    "# run_assimilation_flow(\n",
    "#     title=\"Vanilla Assimilation - Stubborn Agents\",\n",
    "#     num_of_agents=200,\n",
    "#     num_iterations=60,\n",
    "#     scatter_every=10,\n",
    "#     mio=0.1,\n",
    "#     percent_of_stubborn_agents_threshold=0.1,\n",
    "#     num_of_repetitions=10,\n",
    "#     switch_agent_rate=None,\n",
    "#     switch_agent_sigma=None\n",
    "# )\n",
    "print(\"Finished!\")\n"
   ]
  },
  {
   "cell_type": "code",
   "execution_count": 2,
   "metadata": {
    "pycharm": {
     "name": "#%%\n"
    }
   },
   "outputs": [
    {
     "name": "stdout",
     "output_type": "stream",
     "text": [
      "Running similarity flow for:\n",
      "title=Vanilla Similarity\n",
      "num_of_agents=50\n",
      "num_iterations=2000\n",
      "scatter_every=100\n",
      "mio=0.4\n",
      "epsilon=0.3\n",
      "num_of_repetitions=10\n",
      "epsilon=0.3\n",
      "switch_agent_rate=None\n",
      "switch_agent_sigma=None\n",
      "radical_exposure_eta=None\n"
     ]
    },
    {
     "data": {
      "text/plain": "<Figure size 432x288 with 1 Axes>",
      "image/png": "[encoded data removed]"
     },
     "metadata": {
      "needs_background": "light"
     },
     "output_type": "display_data"
    },
    {
     "name": "stdout",
     "output_type": "stream",
     "text": [
      "Finished!\n"
     ]
    }
   ],
   "source": [
    "\n",
    "run_similarity_flow(\n",
    "    title=\"Vanilla Similarity\",\n",
    "    num_of_agents=50,\n",
    "    num_iterations=2000,\n",
    "    scatter_every=100,\n",
    "    mio=0.4,\n",
    "    num_of_repetitions=10,\n",
    "    epsilon=0.3,\n",
    "    switch_agent_rate=None,\n",
    "    switch_agent_sigma=None,\n",
    "    radical_exposure_eta=None\n",
    ")\n",
    "print(\"Finished!\")"
   ]
  },
  {
   "cell_type": "code",
   "execution_count": null,
   "outputs": [],
   "source": [
    "switch_agent_rates = [5, 10, 30, 100]\n",
    "switch_agent_sigmas = [0.2, 0.6]\n",
    "\n",
    "for switch_agent_rate in switch_agent_rates:\n",
    "    for switch_agent_sigma in switch_agent_sigmas:\n",
    "        run_similarity_flow(\n",
    "            title=f\"Similarity - Switch Agents (rate={switch_agent_rate}, std={switch_agent_sigma})\",\n",
    "            num_of_agents=50,\n",
    "            num_iterations=2000,\n",
    "            scatter_every=100,\n",
    "            mio=0.4,\n",
    "            num_of_repetitions=10,\n",
    "            epsilon=0.3,\n",
    "            switch_agent_rate=switch_agent_rate,\n",
    "            switch_agent_sigma=switch_agent_sigma,\n",
    "            radical_exposure_eta=None\n",
    "        )\n",
    "print(\"Finished!\")"
   ],
   "metadata": {
    "collapsed": false,
    "pycharm": {
     "name": "#%%\n"
    }
   }
  },
  {
   "cell_type": "code",
   "execution_count": null,
   "outputs": [],
   "source": [
    "etas = [0.2, 0.6, 0.8, 1.2, 1.6]\n",
    "for eta in etas:\n",
    "    run_similarity_flow(\n",
    "        title=f\"Similarity - Radical Exposure (eta={eta})\",\n",
    "        num_of_agents=50,\n",
    "        num_iterations=2000,\n",
    "        scatter_every=100,\n",
    "        mio=0.4,\n",
    "        num_of_repetitions=10,\n",
    "        epsilon=0.3,\n",
    "        switch_agent_rate=None,\n",
    "        switch_agent_sigma=None,\n",
    "        radical_exposure_eta=eta\n",
    "    )\n",
    "print(\"Finished!\")\n"
   ],
   "metadata": {
    "collapsed": false,
    "pycharm": {
     "name": "#%%\n"
    }
   }
  },
  {
   "cell_type": "code",
   "execution_count": null,
   "metadata": {
    "pycharm": {
     "name": "#%%\n"
    }
   },
   "outputs": [],
   "source": [
    "# run_repulsive_flow()\n",
    "print(\"Finished!\")"
   ]
  }
 ],
 "metadata": {
  "kernelspec": {
   "display_name": "Python 3 (ipykernel)",
   "language": "python",
   "name": "python3"
  },
  "language_info": {
   "codemirror_mode": {
    "name": "ipython",
    "version": 3
   },
   "file_extension": ".py",
   "mimetype": "text/x-python",
   "name": "python",
   "nbconvert_exporter": "python",
   "pygments_lexer": "ipython3",
   "version": "3.9.5"
  }
 },
 "nbformat": 4,
 "nbformat_minor": 1
}