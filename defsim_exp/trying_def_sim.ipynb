{
 "cells": [
  {
   "cell_type": "code",
   "execution_count": 2,
   "metadata": {
    "collapsed": true,
    "pycharm": {
     "name": "#%%\n"
    }
   },
   "outputs": [
    {
     "name": "stdout",
     "output_type": "stream",
     "text": [
      "5 different parameter combinations\n"
     ]
    },
    {
     "name": "stderr",
     "output_type": "stream",
     "text": [
      "100%|██████████| 5/5 [00:04<00:00,  1.24it/s]"
     ]
    },
    {
     "name": "stdout",
     "output_type": "stream",
     "text": [
      "Simulation completed in 4 seconds\n"
     ]
    },
    {
     "name": "stderr",
     "output_type": "stream",
     "text": [
      "\n"
     ]
    }
   ],
   "source": [
    "# https://github.com/defSim/defSim-examples/blob/master/ExperimentClass.ipynb\n",
    "# file:///Users/miajoskowicz/Downloads/marijnkeijzer-polarizingBubbles-c22335f/polarizingBubbles.html\n",
    "# https://defsim.github.io/defSim/Introduction_to_defSim.html\n",
    "\n",
    "import defSim as ds\n",
    "import time\n",
    "\n",
    "exp = ds.Experiment(seed=269,\n",
    "                    influence_function=\"axelrod\",\n",
    "                    attributes_initializer=\"random_categorical\",\n",
    "                    attribute_parameters={\"num_features\": [5],\n",
    "                                          \"num_traits\": [15]},\n",
    "                    influence_parameters={\"homophily\": [.25, .5, 1, 2, 4]},     # .125 & 8 were ran stand-alone\n",
    "                    topology=\"grid\",\n",
    "                    stop_condition=\"strict_convergence\",\n",
    "                    max_iterations=100,\n",
    "                    network_parameters={\"neighborhood\": \"moore\",\n",
    "                                        \"num_agents\": 100},\n",
    "                    # communication_regime=[\"one-to-one\", \"one-to-many\"],\n",
    "                    output_realizations=[\"AverageDistance\", \"Homogeneity\", \"Regions\", \"Isolates\",\n",
    "                                         \"SuccessfullInfluence\", \"Ticks\"],\n",
    "                    repetitions=1)\n",
    "\n",
    "start = time.time()\n",
    "my_results = exp.run(parallel=True)\n",
    "end = time.time()\n",
    "print(\"Simulation completed in\", round(end - start), \"seconds\")\n",
    "my_results.to_csv('AxelrodWithHomophily.csv', index=False)\n"
   ]
  }
 ],
 "metadata": {
  "kernelspec": {
   "display_name": "Python 3",
   "language": "python",
   "name": "python3"
  },
  "language_info": {
   "codemirror_mode": {
    "name": "ipython",
    "version": 2
   },
   "file_extension": ".py",
   "mimetype": "text/x-python",
   "name": "python",
   "nbconvert_exporter": "python",
   "pygments_lexer": "ipython2",
   "version": "2.7.6"
  }
 },
 "nbformat": 4,
 "nbformat_minor": 0
}